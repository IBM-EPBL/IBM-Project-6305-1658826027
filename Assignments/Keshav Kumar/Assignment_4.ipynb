{
  "nbformat": 4,
  "nbformat_minor": 0,
  "metadata": {
    "colab": {
      "provenance": []
    },
    "kernelspec": {
      "name": "python3",
      "display_name": "Python 3"
    },
    "language_info": {
      "name": "python"
    },
    "accelerator": "GPU",
    "gpuClass": "standard"
  },
  "cells": [
    {
      "cell_type": "markdown",
      "source": [
        "Import required library"
      ],
      "metadata": {
        "id": "nJToajtVro8p"
      }
    },
    {
      "cell_type": "code",
      "source": [
        "import csv\n",
        "import tensorflow as tf\n",
        "import pandas as pd\n",
        "import numpy as np\n",
        "import matplotlib.pyplot as plt\n",
        "from tensorflow.keras.preprocessing.text import Tokenizer\n",
        "from tensorflow.keras.preprocessing.sequence import pad_sequences\n",
        "import nltk\n",
        "nltk.download('stopwords')  \n",
        "from nltk.corpus import stopwords\n",
        "STOPWORDS = set(stopwords.words('english'))"
      ],
      "metadata": {
        "colab": {
          "base_uri": "https://localhost:8080/"
        },
        "id": "NHFOQ7sssFKl",
        "outputId": "fa59ee00-3603-41c1-d298-8b60e37e201b"
      },
      "execution_count": 1,
      "outputs": [
        {
          "output_type": "stream",
          "name": "stderr",
          "text": [
            "[nltk_data] Downloading package stopwords to /root/nltk_data...\n",
            "[nltk_data]   Unzipping corpora/stopwords.zip.\n"
          ]
        }
      ]
    },
    {
      "cell_type": "markdown",
      "source": [
        "Download the Dataset"
      ],
      "metadata": {
        "id": "rTYKqWABs2UW"
      }
    },
    {
      "cell_type": "code",
      "source": [
        "from google.colab import drive\n",
        "drive.mount(\"/content/gdrive\")"
      ],
      "metadata": {
        "colab": {
          "base_uri": "https://localhost:8080/"
        },
        "id": "JQqUK3qEs50T",
        "outputId": "e5501c61-d1c1-4e3e-d121-512ba6438cd8"
      },
      "execution_count": 2,
      "outputs": [
        {
          "output_type": "stream",
          "name": "stdout",
          "text": [
            "Mounted at /content/gdrive\n"
          ]
        }
      ]
    },
    {
      "cell_type": "code",
      "source": [
        "%cd /content/gdrive/MyDrive/ibm dataset"
      ],
      "metadata": {
        "colab": {
          "base_uri": "https://localhost:8080/"
        },
        "id": "hVbu6TYitTIU",
        "outputId": "1ee7d9fa-33b0-445e-d3db-96589e8e07f3"
      },
      "execution_count": 3,
      "outputs": [
        {
          "output_type": "stream",
          "name": "stdout",
          "text": [
            "/content/gdrive/MyDrive/ibm dataset\n"
          ]
        }
      ]
    },
    {
      "cell_type": "code",
      "source": [
        "%ls"
      ],
      "metadata": {
        "colab": {
          "base_uri": "https://localhost:8080/"
        },
        "id": "QjZmHE58tc8w",
        "outputId": "9d1e013f-b94d-4591-802c-20dfc4515bc4"
      },
      "execution_count": 4,
      "outputs": [
        {
          "output_type": "stream",
          "name": "stdout",
          "text": [
            "\u001b[0m\u001b[01;34mflowers\u001b[0m/             \u001b[01;34mflowersPredictor.h1\u001b[0m/   spam.csv\n",
            "Flowers-Dataset.zip  \u001b[01;34mflowersPredictorI.m5\u001b[0m/\n"
          ]
        }
      ]
    },
    {
      "cell_type": "markdown",
      "source": [
        "Read dataset and do pre-processing"
      ],
      "metadata": {
        "id": "baQ2HD6zt8_z"
      }
    },
    {
      "cell_type": "code",
      "source": [
        "dataset=pd.read_csv(\"spam.csv\",encoding = \"ISO-8859-1\")\n",
        "dataset"
      ],
      "metadata": {
        "colab": {
          "base_uri": "https://localhost:8080/",
          "height": 424
        },
        "id": "flfW99a2teGA",
        "outputId": "ea81fd3a-b59a-4799-ab8c-65298cdb94b9"
      },
      "execution_count": 7,
      "outputs": [
        {
          "output_type": "execute_result",
          "data": {
            "text/plain": [
              "        v1                                                 v2 Unnamed: 2  \\\n",
              "0      ham  Go until jurong point, crazy.. Available only ...        NaN   \n",
              "1      ham                      Ok lar... Joking wif u oni...        NaN   \n",
              "2     spam  Free entry in 2 a wkly comp to win FA Cup fina...        NaN   \n",
              "3      ham  U dun say so early hor... U c already then say...        NaN   \n",
              "4      ham  Nah I don't think he goes to usf, he lives aro...        NaN   \n",
              "...    ...                                                ...        ...   \n",
              "5567  spam  This is the 2nd time we have tried 2 contact u...        NaN   \n",
              "5568   ham              Will Ì_ b going to esplanade fr home?        NaN   \n",
              "5569   ham  Pity, * was in mood for that. So...any other s...        NaN   \n",
              "5570   ham  The guy did some bitching but I acted like i'd...        NaN   \n",
              "5571   ham                         Rofl. Its true to its name        NaN   \n",
              "\n",
              "     Unnamed: 3 Unnamed: 4  \n",
              "0           NaN        NaN  \n",
              "1           NaN        NaN  \n",
              "2           NaN        NaN  \n",
              "3           NaN        NaN  \n",
              "4           NaN        NaN  \n",
              "...         ...        ...  \n",
              "5567        NaN        NaN  \n",
              "5568        NaN        NaN  \n",
              "5569        NaN        NaN  \n",
              "5570        NaN        NaN  \n",
              "5571        NaN        NaN  \n",
              "\n",
              "[5572 rows x 5 columns]"
            ],
            "text/html": [
              "\n",
              "  <div id=\"df-27e07242-edb4-4430-af86-7397e6f82589\">\n",
              "    <div class=\"colab-df-container\">\n",
              "      <div>\n",
              "<style scoped>\n",
              "    .dataframe tbody tr th:only-of-type {\n",
              "        vertical-align: middle;\n",
              "    }\n",
              "\n",
              "    .dataframe tbody tr th {\n",
              "        vertical-align: top;\n",
              "    }\n",
              "\n",
              "    .dataframe thead th {\n",
              "        text-align: right;\n",
              "    }\n",
              "</style>\n",
              "<table border=\"1\" class=\"dataframe\">\n",
              "  <thead>\n",
              "    <tr style=\"text-align: right;\">\n",
              "      <th></th>\n",
              "      <th>v1</th>\n",
              "      <th>v2</th>\n",
              "      <th>Unnamed: 2</th>\n",
              "      <th>Unnamed: 3</th>\n",
              "      <th>Unnamed: 4</th>\n",
              "    </tr>\n",
              "  </thead>\n",
              "  <tbody>\n",
              "    <tr>\n",
              "      <th>0</th>\n",
              "      <td>ham</td>\n",
              "      <td>Go until jurong point, crazy.. Available only ...</td>\n",
              "      <td>NaN</td>\n",
              "      <td>NaN</td>\n",
              "      <td>NaN</td>\n",
              "    </tr>\n",
              "    <tr>\n",
              "      <th>1</th>\n",
              "      <td>ham</td>\n",
              "      <td>Ok lar... Joking wif u oni...</td>\n",
              "      <td>NaN</td>\n",
              "      <td>NaN</td>\n",
              "      <td>NaN</td>\n",
              "    </tr>\n",
              "    <tr>\n",
              "      <th>2</th>\n",
              "      <td>spam</td>\n",
              "      <td>Free entry in 2 a wkly comp to win FA Cup fina...</td>\n",
              "      <td>NaN</td>\n",
              "      <td>NaN</td>\n",
              "      <td>NaN</td>\n",
              "    </tr>\n",
              "    <tr>\n",
              "      <th>3</th>\n",
              "      <td>ham</td>\n",
              "      <td>U dun say so early hor... U c already then say...</td>\n",
              "      <td>NaN</td>\n",
              "      <td>NaN</td>\n",
              "      <td>NaN</td>\n",
              "    </tr>\n",
              "    <tr>\n",
              "      <th>4</th>\n",
              "      <td>ham</td>\n",
              "      <td>Nah I don't think he goes to usf, he lives aro...</td>\n",
              "      <td>NaN</td>\n",
              "      <td>NaN</td>\n",
              "      <td>NaN</td>\n",
              "    </tr>\n",
              "    <tr>\n",
              "      <th>...</th>\n",
              "      <td>...</td>\n",
              "      <td>...</td>\n",
              "      <td>...</td>\n",
              "      <td>...</td>\n",
              "      <td>...</td>\n",
              "    </tr>\n",
              "    <tr>\n",
              "      <th>5567</th>\n",
              "      <td>spam</td>\n",
              "      <td>This is the 2nd time we have tried 2 contact u...</td>\n",
              "      <td>NaN</td>\n",
              "      <td>NaN</td>\n",
              "      <td>NaN</td>\n",
              "    </tr>\n",
              "    <tr>\n",
              "      <th>5568</th>\n",
              "      <td>ham</td>\n",
              "      <td>Will Ì_ b going to esplanade fr home?</td>\n",
              "      <td>NaN</td>\n",
              "      <td>NaN</td>\n",
              "      <td>NaN</td>\n",
              "    </tr>\n",
              "    <tr>\n",
              "      <th>5569</th>\n",
              "      <td>ham</td>\n",
              "      <td>Pity, * was in mood for that. So...any other s...</td>\n",
              "      <td>NaN</td>\n",
              "      <td>NaN</td>\n",
              "      <td>NaN</td>\n",
              "    </tr>\n",
              "    <tr>\n",
              "      <th>5570</th>\n",
              "      <td>ham</td>\n",
              "      <td>The guy did some bitching but I acted like i'd...</td>\n",
              "      <td>NaN</td>\n",
              "      <td>NaN</td>\n",
              "      <td>NaN</td>\n",
              "    </tr>\n",
              "    <tr>\n",
              "      <th>5571</th>\n",
              "      <td>ham</td>\n",
              "      <td>Rofl. Its true to its name</td>\n",
              "      <td>NaN</td>\n",
              "      <td>NaN</td>\n",
              "      <td>NaN</td>\n",
              "    </tr>\n",
              "  </tbody>\n",
              "</table>\n",
              "<p>5572 rows × 5 columns</p>\n",
              "</div>\n",
              "      <button class=\"colab-df-convert\" onclick=\"convertToInteractive('df-27e07242-edb4-4430-af86-7397e6f82589')\"\n",
              "              title=\"Convert this dataframe to an interactive table.\"\n",
              "              style=\"display:none;\">\n",
              "        \n",
              "  <svg xmlns=\"http://www.w3.org/2000/svg\" height=\"24px\"viewBox=\"0 0 24 24\"\n",
              "       width=\"24px\">\n",
              "    <path d=\"M0 0h24v24H0V0z\" fill=\"none\"/>\n",
              "    <path d=\"M18.56 5.44l.94 2.06.94-2.06 2.06-.94-2.06-.94-.94-2.06-.94 2.06-2.06.94zm-11 1L8.5 8.5l.94-2.06 2.06-.94-2.06-.94L8.5 2.5l-.94 2.06-2.06.94zm10 10l.94 2.06.94-2.06 2.06-.94-2.06-.94-.94-2.06-.94 2.06-2.06.94z\"/><path d=\"M17.41 7.96l-1.37-1.37c-.4-.4-.92-.59-1.43-.59-.52 0-1.04.2-1.43.59L10.3 9.45l-7.72 7.72c-.78.78-.78 2.05 0 2.83L4 21.41c.39.39.9.59 1.41.59.51 0 1.02-.2 1.41-.59l7.78-7.78 2.81-2.81c.8-.78.8-2.07 0-2.86zM5.41 20L4 18.59l7.72-7.72 1.47 1.35L5.41 20z\"/>\n",
              "  </svg>\n",
              "      </button>\n",
              "      \n",
              "  <style>\n",
              "    .colab-df-container {\n",
              "      display:flex;\n",
              "      flex-wrap:wrap;\n",
              "      gap: 12px;\n",
              "    }\n",
              "\n",
              "    .colab-df-convert {\n",
              "      background-color: #E8F0FE;\n",
              "      border: none;\n",
              "      border-radius: 50%;\n",
              "      cursor: pointer;\n",
              "      display: none;\n",
              "      fill: #1967D2;\n",
              "      height: 32px;\n",
              "      padding: 0 0 0 0;\n",
              "      width: 32px;\n",
              "    }\n",
              "\n",
              "    .colab-df-convert:hover {\n",
              "      background-color: #E2EBFA;\n",
              "      box-shadow: 0px 1px 2px rgba(60, 64, 67, 0.3), 0px 1px 3px 1px rgba(60, 64, 67, 0.15);\n",
              "      fill: #174EA6;\n",
              "    }\n",
              "\n",
              "    [theme=dark] .colab-df-convert {\n",
              "      background-color: #3B4455;\n",
              "      fill: #D2E3FC;\n",
              "    }\n",
              "\n",
              "    [theme=dark] .colab-df-convert:hover {\n",
              "      background-color: #434B5C;\n",
              "      box-shadow: 0px 1px 3px 1px rgba(0, 0, 0, 0.15);\n",
              "      filter: drop-shadow(0px 1px 2px rgba(0, 0, 0, 0.3));\n",
              "      fill: #FFFFFF;\n",
              "    }\n",
              "  </style>\n",
              "\n",
              "      <script>\n",
              "        const buttonEl =\n",
              "          document.querySelector('#df-27e07242-edb4-4430-af86-7397e6f82589 button.colab-df-convert');\n",
              "        buttonEl.style.display =\n",
              "          google.colab.kernel.accessAllowed ? 'block' : 'none';\n",
              "\n",
              "        async function convertToInteractive(key) {\n",
              "          const element = document.querySelector('#df-27e07242-edb4-4430-af86-7397e6f82589');\n",
              "          const dataTable =\n",
              "            await google.colab.kernel.invokeFunction('convertToInteractive',\n",
              "                                                     [key], {});\n",
              "          if (!dataTable) return;\n",
              "\n",
              "          const docLinkHtml = 'Like what you see? Visit the ' +\n",
              "            '<a target=\"_blank\" href=https://colab.research.google.com/notebooks/data_table.ipynb>data table notebook</a>'\n",
              "            + ' to learn more about interactive tables.';\n",
              "          element.innerHTML = '';\n",
              "          dataTable['output_type'] = 'display_data';\n",
              "          await google.colab.output.renderOutput(dataTable, element);\n",
              "          const docLink = document.createElement('div');\n",
              "          docLink.innerHTML = docLinkHtml;\n",
              "          element.appendChild(docLink);\n",
              "        }\n",
              "      </script>\n",
              "    </div>\n",
              "  </div>\n",
              "  "
            ]
          },
          "metadata": {},
          "execution_count": 7
        }
      ]
    },
    {
      "cell_type": "code",
      "source": [
        "vocab_size = 5000\n",
        "embedding_dim = 64\n",
        "max_length = 200\n",
        "trunc_type = 'post'\n",
        "padding_type = 'post'\n",
        "oov_tok = ''\n",
        "training_portion = .8"
      ],
      "metadata": {
        "id": "aUf1DIpptuIG"
      },
      "execution_count": 8,
      "outputs": []
    },
    {
      "cell_type": "code",
      "source": [
        "articles = []\n",
        "labels = []\n",
        "\n",
        "with open(\"spam.csv\", 'r', encoding = \"ISO-8859-1\") as dataset:\n",
        "    reader = csv.reader(dataset, delimiter=',')\n",
        "    next(reader)\n",
        "    for row in reader:\n",
        "        labels.append(row[0])\n",
        "        article = row[1]\n",
        "        for word in STOPWORDS:\n",
        "            token = ' ' + word + ' '\n",
        "            article = article.replace(token, ' ')\n",
        "            article = article.replace(' ', ' ')\n",
        "        articles.append(article)\n",
        "print(len(labels))\n",
        "print(len(articles))\n"
      ],
      "metadata": {
        "colab": {
          "base_uri": "https://localhost:8080/"
        },
        "id": "TIBZKfJRuGNb",
        "outputId": "a9dc7b11-59f8-495b-de3d-70ec7a336666"
      },
      "execution_count": 9,
      "outputs": [
        {
          "output_type": "stream",
          "name": "stdout",
          "text": [
            "5572\n",
            "5572\n"
          ]
        }
      ]
    },
    {
      "cell_type": "code",
      "source": [
        "train_size = int(len(articles) * training_portion)\n",
        "\n",
        "train_articles = articles[0: train_size]\n",
        "train_labels = labels[0: train_size]\n",
        "\n",
        "validation_articles = articles[train_size:]\n",
        "validation_labels = labels[train_size:]\n",
        "\n",
        "print(train_size)\n",
        "print(len(train_articles))\n",
        "print(len(train_labels))\n",
        "print(len(validation_articles))\n",
        "print(len(validation_labels))"
      ],
      "metadata": {
        "colab": {
          "base_uri": "https://localhost:8080/"
        },
        "id": "54-o-5JDuJy1",
        "outputId": "d5811a80-c333-417f-9ed7-8a27c04ae7e5"
      },
      "execution_count": 10,
      "outputs": [
        {
          "output_type": "stream",
          "name": "stdout",
          "text": [
            "4457\n",
            "4457\n",
            "4457\n",
            "1115\n",
            "1115\n"
          ]
        }
      ]
    },
    {
      "cell_type": "code",
      "source": [
        "tokenizer = Tokenizer(num_words = vocab_size, oov_token=oov_tok)\n",
        "tokenizer.fit_on_texts(train_articles)\n",
        "word_index = tokenizer.word_index\n",
        "dict(list(word_index.items())[0:10])"
      ],
      "metadata": {
        "colab": {
          "base_uri": "https://localhost:8080/"
        },
        "id": "mCbfcuT0uNO1",
        "outputId": "157f6b08-6697-4412-be81-19c5db186276"
      },
      "execution_count": 11,
      "outputs": [
        {
          "output_type": "execute_result",
          "data": {
            "text/plain": [
              "{'': 1,\n",
              " 'i': 2,\n",
              " 'u': 3,\n",
              " 'call': 4,\n",
              " 'you': 5,\n",
              " '2': 6,\n",
              " 'get': 7,\n",
              " \"i'm\": 8,\n",
              " 'ur': 9,\n",
              " 'now': 10}"
            ]
          },
          "metadata": {},
          "execution_count": 11
        }
      ]
    },
    {
      "cell_type": "code",
      "source": [
        "train_sequences = tokenizer.texts_to_sequences(train_articles)\n",
        "print(train_sequences[10])"
      ],
      "metadata": {
        "colab": {
          "base_uri": "https://localhost:8080/"
        },
        "id": "mJVejnBkuQ_n",
        "outputId": "58e5cbe9-27ea-453d-b839-024d7711af0c"
      },
      "execution_count": 12,
      "outputs": [
        {
          "output_type": "stream",
          "name": "stdout",
          "text": [
            "[8, 190, 37, 201, 30, 260, 293, 991, 222, 53, 153, 3815, 423, 46]\n"
          ]
        }
      ]
    },
    {
      "cell_type": "code",
      "source": [
        "train_padded = pad_sequences(train_sequences, maxlen=max_length, padding=padding_type, truncating=trunc_type)\n",
        "print(len(train_sequences[0]))\n",
        "print(len(train_padded[0]))\n",
        "\n",
        "print(len(train_sequences[1]))\n",
        "print(len(train_padded[1]))\n",
        "\n",
        "print(len(train_sequences[10]))\n",
        "print(len(train_padded[10]))"
      ],
      "metadata": {
        "colab": {
          "base_uri": "https://localhost:8080/"
        },
        "id": "vWHEzkX2uWrF",
        "outputId": "90e8a05e-ae38-4053-d30b-0cf13f4f7ed0"
      },
      "execution_count": 13,
      "outputs": [
        {
          "output_type": "stream",
          "name": "stdout",
          "text": [
            "16\n",
            "200\n",
            "6\n",
            "200\n",
            "14\n",
            "200\n"
          ]
        }
      ]
    },
    {
      "cell_type": "code",
      "source": [
        "train_padded[10]"
      ],
      "metadata": {
        "colab": {
          "base_uri": "https://localhost:8080/"
        },
        "id": "GdJnNSM1ubeU",
        "outputId": "ddcbaee2-2970-4668-fe16-929d31f069fd"
      },
      "execution_count": 14,
      "outputs": [
        {
          "output_type": "execute_result",
          "data": {
            "text/plain": [
              "array([   8,  190,   37,  201,   30,  260,  293,  991,  222,   53,  153,\n",
              "       3815,  423,   46,    0,    0,    0,    0,    0,    0,    0,    0,\n",
              "          0,    0,    0,    0,    0,    0,    0,    0,    0,    0,    0,\n",
              "          0,    0,    0,    0,    0,    0,    0,    0,    0,    0,    0,\n",
              "          0,    0,    0,    0,    0,    0,    0,    0,    0,    0,    0,\n",
              "          0,    0,    0,    0,    0,    0,    0,    0,    0,    0,    0,\n",
              "          0,    0,    0,    0,    0,    0,    0,    0,    0,    0,    0,\n",
              "          0,    0,    0,    0,    0,    0,    0,    0,    0,    0,    0,\n",
              "          0,    0,    0,    0,    0,    0,    0,    0,    0,    0,    0,\n",
              "          0,    0,    0,    0,    0,    0,    0,    0,    0,    0,    0,\n",
              "          0,    0,    0,    0,    0,    0,    0,    0,    0,    0,    0,\n",
              "          0,    0,    0,    0,    0,    0,    0,    0,    0,    0,    0,\n",
              "          0,    0,    0,    0,    0,    0,    0,    0,    0,    0,    0,\n",
              "          0,    0,    0,    0,    0,    0,    0,    0,    0,    0,    0,\n",
              "          0,    0,    0,    0,    0,    0,    0,    0,    0,    0,    0,\n",
              "          0,    0,    0,    0,    0,    0,    0,    0,    0,    0,    0,\n",
              "          0,    0,    0,    0,    0,    0,    0,    0,    0,    0,    0,\n",
              "          0,    0,    0,    0,    0,    0,    0,    0,    0,    0,    0,\n",
              "          0,    0], dtype=int32)"
            ]
          },
          "metadata": {},
          "execution_count": 14
        }
      ]
    },
    {
      "cell_type": "code",
      "source": [
        "validation_sequences = tokenizer.texts_to_sequences(validation_articles)\n",
        "validation_padded = pad_sequences(validation_sequences, maxlen=max_length, padding=padding_type, truncating=trunc_type)\n",
        "\n",
        "len(validation_sequences)\n",
        "validation_padded.shape"
      ],
      "metadata": {
        "colab": {
          "base_uri": "https://localhost:8080/"
        },
        "id": "elAGJEnNue_b",
        "outputId": "3a9f2b05-7fe0-4693-da20-18c7c8863f9a"
      },
      "execution_count": 15,
      "outputs": [
        {
          "output_type": "execute_result",
          "data": {
            "text/plain": [
              "(1115, 200)"
            ]
          },
          "metadata": {},
          "execution_count": 15
        }
      ]
    },
    {
      "cell_type": "code",
      "source": [
        "label_tokenizer = Tokenizer()\n",
        "label_tokenizer.fit_on_texts(labels)\n",
        "\n",
        "training_label_seq = np.array(label_tokenizer.texts_to_sequences(train_labels))\n",
        "validation_label_seq = np.array(label_tokenizer.texts_to_sequences(validation_labels))\n",
        "training_label_seq[0]\n",
        "training_label_seq[1]\n",
        "training_label_seq[2]\n",
        "training_label_seq.shape\n",
        "\n",
        "validation_label_seq[0]\n",
        "validation_label_seq[1]\n",
        "validation_label_seq[2]\n",
        "validation_label_seq.shape"
      ],
      "metadata": {
        "colab": {
          "base_uri": "https://localhost:8080/"
        },
        "id": "qMIo6pIMul0X",
        "outputId": "ba4b324a-4045-4897-bbed-a5151a295c12"
      },
      "execution_count": 16,
      "outputs": [
        {
          "output_type": "execute_result",
          "data": {
            "text/plain": [
              "(1115, 1)"
            ]
          },
          "metadata": {},
          "execution_count": 16
        }
      ]
    },
    {
      "cell_type": "code",
      "source": [
        "reverse_word_index = dict([(value, key) for (key, value) in word_index.items()])\n",
        "reverse_word_index\n"
      ],
      "metadata": {
        "colab": {
          "base_uri": "https://localhost:8080/"
        },
        "id": "yk_laIRQu4ca",
        "outputId": "8f77f985-498b-474d-9460-4c9a9ea5b6b1"
      },
      "execution_count": 18,
      "outputs": [
        {
          "output_type": "execute_result",
          "data": {
            "text/plain": [
              "{1: '',\n",
              " 2: 'i',\n",
              " 3: 'u',\n",
              " 4: 'call',\n",
              " 5: 'you',\n",
              " 6: '2',\n",
              " 7: 'get',\n",
              " 8: \"i'm\",\n",
              " 9: 'ur',\n",
              " 10: 'now',\n",
              " 11: 'gt',\n",
              " 12: 'lt',\n",
              " 13: '4',\n",
              " 14: 'ok',\n",
              " 15: 'free',\n",
              " 16: 'go',\n",
              " 17: 'know',\n",
              " 18: 'me',\n",
              " 19: 'like',\n",
              " 20: 'good',\n",
              " 21: 'no',\n",
              " 22: 'it',\n",
              " 23: 'got',\n",
              " 24: 'come',\n",
              " 25: 'day',\n",
              " 26: 'love',\n",
              " 27: 'time',\n",
              " 28: 'send',\n",
              " 29: 'text',\n",
              " 30: 'want',\n",
              " 31: 'how',\n",
              " 32: 'going',\n",
              " 33: \"i'll\",\n",
              " 34: 'txt',\n",
              " 35: 'do',\n",
              " 36: 'one',\n",
              " 37: 'home',\n",
              " 38: 'sorry',\n",
              " 39: 'need',\n",
              " 40: 'so',\n",
              " 41: 'r',\n",
              " 42: 'but',\n",
              " 43: 'still',\n",
              " 44: 'lor',\n",
              " 45: 'n',\n",
              " 46: 'today',\n",
              " 47: 'reply',\n",
              " 48: 'back',\n",
              " 49: 'dont',\n",
              " 50: 'if',\n",
              " 51: 'see',\n",
              " 52: 'stop',\n",
              " 53: 'k',\n",
              " 54: 'da',\n",
              " 55: 'please',\n",
              " 56: 'hi',\n",
              " 57: 'take',\n",
              " 58: 'tell',\n",
              " 59: 'new',\n",
              " 60: 'think',\n",
              " 61: 'what',\n",
              " 62: 'just',\n",
              " 63: 'mobile',\n",
              " 64: 'the',\n",
              " 65: 'we',\n",
              " 66: 'later',\n",
              " 67: 'my',\n",
              " 68: 'dear',\n",
              " 69: 'pls',\n",
              " 70: 'phone',\n",
              " 71: '1',\n",
              " 72: 'ì',\n",
              " 73: 'your',\n",
              " 74: 'week',\n",
              " 75: 'msg',\n",
              " 76: 'well',\n",
              " 77: 'much',\n",
              " 78: 'and',\n",
              " 79: 'is',\n",
              " 80: 'night',\n",
              " 81: 'hope',\n",
              " 82: 'happy',\n",
              " 83: 'this',\n",
              " 84: 'claim',\n",
              " 85: 'then',\n",
              " 86: 'great',\n",
              " 87: 'to',\n",
              " 88: 'are',\n",
              " 89: 'can',\n",
              " 90: 'hey',\n",
              " 91: 'in',\n",
              " 92: 'message',\n",
              " 93: 'way',\n",
              " 94: 'yes',\n",
              " 95: 'that',\n",
              " 96: 'not',\n",
              " 97: 'c',\n",
              " 98: 'a',\n",
              " 99: 'say',\n",
              " 100: 'make',\n",
              " 101: 'wat',\n",
              " 102: 'e',\n",
              " 103: 'right',\n",
              " 104: 'oh',\n",
              " 105: 'work',\n",
              " 106: 'there',\n",
              " 107: 'prize',\n",
              " 108: 'www',\n",
              " 109: 'tomorrow',\n",
              " 110: 'said',\n",
              " 111: 'already',\n",
              " 112: 'have',\n",
              " 113: 'its',\n",
              " 114: 'only',\n",
              " 115: 'give',\n",
              " 116: 'amp',\n",
              " 117: 'number',\n",
              " 118: 'meet',\n",
              " 119: 'up',\n",
              " 120: 'really',\n",
              " 121: 'morning',\n",
              " 122: 'find',\n",
              " 123: 'miss',\n",
              " 124: 'yeah',\n",
              " 125: 'cash',\n",
              " 126: 'ask',\n",
              " 127: 'out',\n",
              " 128: 'would',\n",
              " 129: '3',\n",
              " 130: 'life',\n",
              " 131: 'win',\n",
              " 132: 'every',\n",
              " 133: 'sure',\n",
              " 134: 'babe',\n",
              " 135: 'im',\n",
              " 136: 'let',\n",
              " 137: 'thanks',\n",
              " 138: 'cos',\n",
              " 139: '150p',\n",
              " 140: 'lol',\n",
              " 141: 'also',\n",
              " 142: 'com',\n",
              " 143: 'he',\n",
              " 144: 'b',\n",
              " 145: 'last',\n",
              " 146: 'sent',\n",
              " 147: 't',\n",
              " 148: 'nokia',\n",
              " 149: 'urgent',\n",
              " 150: 'wait',\n",
              " 151: 'went',\n",
              " 152: 'feel',\n",
              " 153: \"i've\",\n",
              " 154: 'did',\n",
              " 155: 'first',\n",
              " 156: 'pick',\n",
              " 157: 'someone',\n",
              " 158: 'buy',\n",
              " 159: 'all',\n",
              " 160: 'care',\n",
              " 161: 'around',\n",
              " 162: 'something',\n",
              " 163: 'min',\n",
              " 164: 'here',\n",
              " 165: 'anything',\n",
              " 166: 'uk',\n",
              " 167: 'could',\n",
              " 168: 'contact',\n",
              " 169: '5',\n",
              " 170: 'even',\n",
              " 171: 'per',\n",
              " 172: 'late',\n",
              " 173: 'when',\n",
              " 174: 'cant',\n",
              " 175: \"can't\",\n",
              " 176: 'keep',\n",
              " 177: 'v',\n",
              " 178: 'always',\n",
              " 179: 'us',\n",
              " 180: 'nice',\n",
              " 181: 'money',\n",
              " 182: 'where',\n",
              " 183: 'service',\n",
              " 184: 'ya',\n",
              " 185: 'tone',\n",
              " 186: 'will',\n",
              " 187: 'place',\n",
              " 188: 'friends',\n",
              " 189: 'customer',\n",
              " 190: 'gonna',\n",
              " 191: 'on',\n",
              " 192: 'for',\n",
              " 193: 'chat',\n",
              " 194: 'thing',\n",
              " 195: '50',\n",
              " 196: \"that's\",\n",
              " 197: 'special',\n",
              " 198: 'at',\n",
              " 199: 'sleep',\n",
              " 200: 'co',\n",
              " 201: 'soon',\n",
              " 202: 'waiting',\n",
              " 203: 'she',\n",
              " 204: 'getting',\n",
              " 205: 'done',\n",
              " 206: 'hello',\n",
              " 207: 'year',\n",
              " 208: 'many',\n",
              " 209: 'dun',\n",
              " 210: 'as',\n",
              " 211: 'help',\n",
              " 212: 'class',\n",
              " 213: '18',\n",
              " 214: 'yet',\n",
              " 215: 'may',\n",
              " 216: '16',\n",
              " 217: 'haha',\n",
              " 218: 'gud',\n",
              " 219: 'thk',\n",
              " 220: 'told',\n",
              " 221: 'wan',\n",
              " 222: 'tonight',\n",
              " 223: 'next',\n",
              " 224: 'x',\n",
              " 225: 'live',\n",
              " 226: 'things',\n",
              " 227: 'wish',\n",
              " 228: 'leave',\n",
              " 229: 'name',\n",
              " 230: 'man',\n",
              " 231: 'ìï',\n",
              " 232: 'use',\n",
              " 233: 'try',\n",
              " 234: 'sms',\n",
              " 235: 'best',\n",
              " 236: 'or',\n",
              " 237: 'people',\n",
              " 238: 'cs',\n",
              " 239: 's',\n",
              " 240: 'fine',\n",
              " 241: '6',\n",
              " 242: 'guaranteed',\n",
              " 243: 'again',\n",
              " 244: 'job',\n",
              " 245: 'draw',\n",
              " 246: \"it's\",\n",
              " 247: 'friend',\n",
              " 248: 'ill',\n",
              " 249: 'lunch',\n",
              " 250: 'am',\n",
              " 251: 'end',\n",
              " 252: 'too',\n",
              " 253: 'coming',\n",
              " 254: 'heart',\n",
              " 255: 'real',\n",
              " 256: 'yo',\n",
              " 257: 'wk',\n",
              " 258: 'holiday',\n",
              " 259: 'mind',\n",
              " 260: 'talk',\n",
              " 261: 'bit',\n",
              " 262: 'thought',\n",
              " 263: 'guess',\n",
              " 264: 'mins',\n",
              " 265: 'line',\n",
              " 266: 'lar',\n",
              " 267: 'word',\n",
              " 268: 'cost',\n",
              " 269: 'eat',\n",
              " 270: 'car',\n",
              " 271: 'check',\n",
              " 272: 'smile',\n",
              " 273: 'nothing',\n",
              " 274: 'better',\n",
              " 275: 'house',\n",
              " 276: 'chance',\n",
              " 277: 'days',\n",
              " 278: '7',\n",
              " 279: 'god',\n",
              " 280: 'å£1',\n",
              " 281: 'they',\n",
              " 282: 'finish',\n",
              " 283: 'half',\n",
              " 284: 'long',\n",
              " 285: 'sir',\n",
              " 286: 'why',\n",
              " 287: 'luv',\n",
              " 288: 'ready',\n",
              " 289: 'start',\n",
              " 290: 'person',\n",
              " 291: 'enjoy',\n",
              " 292: 'world',\n",
              " 293: 'stuff',\n",
              " 294: 'trying',\n",
              " 295: 'lot',\n",
              " 296: 'offer',\n",
              " 297: 'early',\n",
              " 298: 'pay',\n",
              " 299: 'yup',\n",
              " 300: 'never',\n",
              " 301: 'meeting',\n",
              " 302: 'wanna',\n",
              " 303: 'thats',\n",
              " 304: 'aight',\n",
              " 305: 'account',\n",
              " 306: 'tv',\n",
              " 307: 'her',\n",
              " 308: 'ever',\n",
              " 309: 'receive',\n",
              " 310: 'speak',\n",
              " 311: 'room',\n",
              " 312: 'month',\n",
              " 313: 'sweet',\n",
              " 314: 'play',\n",
              " 315: 'awarded',\n",
              " 316: 'another',\n",
              " 317: 'girl',\n",
              " 318: 'dat',\n",
              " 319: 'big',\n",
              " 320: 'watch',\n",
              " 321: 'video',\n",
              " 322: 'shit',\n",
              " 323: '1st',\n",
              " 324: 'xxx',\n",
              " 325: 'remember',\n",
              " 326: 'ringtone',\n",
              " 327: 'cool',\n",
              " 328: 'ah',\n",
              " 329: 'bed',\n",
              " 330: '150ppm',\n",
              " 331: 'liao',\n",
              " 332: 'might',\n",
              " 333: 'box',\n",
              " 334: 'orange',\n",
              " 335: 'apply',\n",
              " 336: 'camera',\n",
              " 337: 'wont',\n",
              " 338: 'watching',\n",
              " 339: 'å£1000',\n",
              " 340: 'birthday',\n",
              " 341: 'jus',\n",
              " 342: 'reach',\n",
              " 343: 'two',\n",
              " 344: 'minutes',\n",
              " 345: 'quite',\n",
              " 346: 'sat',\n",
              " 347: 'actually',\n",
              " 348: 'rate',\n",
              " 349: 'latest',\n",
              " 350: 'look',\n",
              " 351: 'pa',\n",
              " 352: 'looking',\n",
              " 353: 'shows',\n",
              " 354: 'landline',\n",
              " 355: 'guys',\n",
              " 356: 'of',\n",
              " 357: 'po',\n",
              " 358: 'thanx',\n",
              " 359: 'dunno',\n",
              " 360: 'problem',\n",
              " 361: 'was',\n",
              " 362: 'office',\n",
              " 363: 'princess',\n",
              " 364: 'network',\n",
              " 365: '000',\n",
              " 366: 'thank',\n",
              " 367: 'with',\n",
              " 368: 'maybe',\n",
              " 369: 'dis',\n",
              " 370: 'hear',\n",
              " 371: 'forgot',\n",
              " 372: 'sexy',\n",
              " 373: 'called',\n",
              " 374: 'asked',\n",
              " 375: 'hour',\n",
              " 376: 'shall',\n",
              " 377: 'probably',\n",
              " 378: 'from',\n",
              " 379: 'left',\n",
              " 380: 'dinner',\n",
              " 381: \"he's\",\n",
              " 382: '10',\n",
              " 383: 'afternoon',\n",
              " 384: 'bt',\n",
              " 385: 'mail',\n",
              " 386: 'without',\n",
              " 387: 'll',\n",
              " 388: 'working',\n",
              " 389: 'hav',\n",
              " 390: 'collect',\n",
              " 391: 'made',\n",
              " 392: 'put',\n",
              " 393: 'be',\n",
              " 394: 'kiss',\n",
              " 395: 'wife',\n",
              " 396: 'town',\n",
              " 397: 'goes',\n",
              " 398: 'fun',\n",
              " 399: 'selected',\n",
              " 400: \"there's\",\n",
              " 401: 'calls',\n",
              " 402: 'pain',\n",
              " 403: 'part',\n",
              " 404: 'came',\n",
              " 405: 'okay',\n",
              " 406: 'worry',\n",
              " 407: 'juz',\n",
              " 408: 'must',\n",
              " 409: 'over',\n",
              " 410: 'join',\n",
              " 411: 'him',\n",
              " 412: 'decimal',\n",
              " 413: 'easy',\n",
              " 414: 'shopping',\n",
              " 415: 'plan',\n",
              " 416: 'baby',\n",
              " 417: 'plz',\n",
              " 418: 'tones',\n",
              " 419: 'texts',\n",
              " 420: 'den',\n",
              " 421: '8',\n",
              " 422: 'bad',\n",
              " 423: 'enough',\n",
              " 424: '2nd',\n",
              " 425: 'wanted',\n",
              " 426: 'weekend',\n",
              " 427: 'since',\n",
              " 428: 'won',\n",
              " 429: 'abt',\n",
              " 430: 'little',\n",
              " 431: 'coz',\n",
              " 432: 'xmas',\n",
              " 433: 'tmr',\n",
              " 434: 'evening',\n",
              " 435: 'everything',\n",
              " 436: 'didnt',\n",
              " 437: 'wake',\n",
              " 438: 'dude',\n",
              " 439: 'stay',\n",
              " 440: 'entry',\n",
              " 441: '9',\n",
              " 442: 'code',\n",
              " 443: 'words',\n",
              " 444: 'alright',\n",
              " 445: 'bus',\n",
              " 446: 'till',\n",
              " 447: \"how's\",\n",
              " 448: 'messages',\n",
              " 449: 'means',\n",
              " 450: 'movie',\n",
              " 451: 'says',\n",
              " 452: 'making',\n",
              " 453: 'award',\n",
              " 454: 'boy',\n",
              " 455: 'able',\n",
              " 456: 'leh',\n",
              " 457: '500',\n",
              " 458: \"don't\",\n",
              " 459: 'weekly',\n",
              " 460: 'lose',\n",
              " 461: 'fuck',\n",
              " 462: 'dad',\n",
              " 463: 'de',\n",
              " 464: 'gift',\n",
              " 465: 'though',\n",
              " 466: 'had',\n",
              " 467: 'å£100',\n",
              " 468: 'net',\n",
              " 469: 'times',\n",
              " 470: 'missed',\n",
              " 471: 'yesterday',\n",
              " 472: 'mob',\n",
              " 473: 'wen',\n",
              " 474: 'price',\n",
              " 475: 'food',\n",
              " 476: 'missing',\n",
              " 477: 'oso',\n",
              " 478: '10p',\n",
              " 479: 'wot',\n",
              " 480: 'change',\n",
              " 481: 'wif',\n",
              " 482: 'question',\n",
              " 483: 'more',\n",
              " 484: 'update',\n",
              " 485: 'http',\n",
              " 486: 'national',\n",
              " 487: \"we're\",\n",
              " 488: 'tomo',\n",
              " 489: 'saw',\n",
              " 490: 'double',\n",
              " 491: 'bonus',\n",
              " 492: 'comes',\n",
              " 493: 'run',\n",
              " 494: 'test',\n",
              " 495: 'address',\n",
              " 496: \"''\",\n",
              " 497: 'answer',\n",
              " 498: 'top',\n",
              " 499: 'doing',\n",
              " 500: 'order',\n",
              " 501: 'til',\n",
              " 502: 'sleeping',\n",
              " 503: \"what's\",\n",
              " 504: 'important',\n",
              " 505: 'true',\n",
              " 506: 'hot',\n",
              " 507: 'hurt',\n",
              " 508: 'book',\n",
              " 509: 'online',\n",
              " 510: 'pics',\n",
              " 511: '8007',\n",
              " 512: 'plus',\n",
              " 513: 'valid',\n",
              " 514: 'ard',\n",
              " 515: 'took',\n",
              " 516: 'hair',\n",
              " 517: 'y',\n",
              " 518: 'anyway',\n",
              " 519: 'our',\n",
              " 520: 'vouchers',\n",
              " 521: 'music',\n",
              " 522: 'club',\n",
              " 523: 'any',\n",
              " 524: 'calling',\n",
              " 525: 'details',\n",
              " 526: 'either',\n",
              " 527: 'bored',\n",
              " 528: 'wants',\n",
              " 529: 'makes',\n",
              " 530: 'collection',\n",
              " 531: 'available',\n",
              " 532: 'set',\n",
              " 533: 'colour',\n",
              " 534: 'aft',\n",
              " 535: 'tried',\n",
              " 536: 'delivery',\n",
              " 537: 'who',\n",
              " 538: 'lucky',\n",
              " 539: 'finished',\n",
              " 540: 'close',\n",
              " 541: 'else',\n",
              " 542: 'mean',\n",
              " 543: 'busy',\n",
              " 544: 'school',\n",
              " 545: 'years',\n",
              " 546: 'everyone',\n",
              " 547: 'smoke',\n",
              " 548: 'awesome',\n",
              " 549: 'story',\n",
              " 550: 'noe',\n",
              " 551: 'g',\n",
              " 552: 'wid',\n",
              " 553: '86688',\n",
              " 554: 'post',\n",
              " 555: 'chikku',\n",
              " 556: 'bring',\n",
              " 557: 'å£500',\n",
              " 558: 'beautiful',\n",
              " 559: 'feeling',\n",
              " 560: 'attempt',\n",
              " 561: 'guy',\n",
              " 562: 'sad',\n",
              " 563: 'lei',\n",
              " 564: 'final',\n",
              " 565: 'hours',\n",
              " 566: 'date',\n",
              " 567: 'ha',\n",
              " 568: 'å£5000',\n",
              " 569: 'show',\n",
              " 570: 'cause',\n",
              " 571: 'driving',\n",
              " 572: 'search',\n",
              " 573: 'todays',\n",
              " 574: 'haf',\n",
              " 575: 'lots',\n",
              " 576: 'should',\n",
              " 577: 'believe',\n",
              " 578: 'found',\n",
              " 579: 'id',\n",
              " 580: 'shop',\n",
              " 581: 'happen',\n",
              " 582: 'full',\n",
              " 583: 'friendship',\n",
              " 584: \"we'll\",\n",
              " 585: 'row',\n",
              " 586: 'd',\n",
              " 587: 'whatever',\n",
              " 588: 'sch',\n",
              " 589: 'off',\n",
              " 590: 'family',\n",
              " 591: 'away',\n",
              " 592: 'goin',\n",
              " 593: 'drive',\n",
              " 594: 'pic',\n",
              " 595: \"c's\",\n",
              " 596: 'pounds',\n",
              " 597: 'news',\n",
              " 598: 'forget',\n",
              " 599: 'congrats',\n",
              " 600: 'smiling',\n",
              " 601: 'havent',\n",
              " 602: 'after',\n",
              " 603: 'å£2000',\n",
              " 604: 'msgs',\n",
              " 605: 'services',\n",
              " 606: 'carlos',\n",
              " 607: 'worth',\n",
              " 608: 'gr8',\n",
              " 609: 'minute',\n",
              " 610: 'sis',\n",
              " 611: 'touch',\n",
              " 612: 'break',\n",
              " 613: 'walk',\n",
              " 614: '750',\n",
              " 615: 'ring',\n",
              " 616: 'charge',\n",
              " 617: 'okie',\n",
              " 618: 'w',\n",
              " 619: 'huh',\n",
              " 620: 'dating',\n",
              " 621: 'head',\n",
              " 622: 'land',\n",
              " 623: 'tot',\n",
              " 624: 'opt',\n",
              " 625: 'sae',\n",
              " 626: 'å£3',\n",
              " 627: 'sea',\n",
              " 628: 'fast',\n",
              " 629: 'together',\n",
              " 630: 'voucher',\n",
              " 631: 'email',\n",
              " 632: '\\x89û',\n",
              " 633: 'anyone',\n",
              " 634: 'drop',\n",
              " 635: 'brother',\n",
              " 636: 'treat',\n",
              " 637: 'winner',\n",
              " 638: 'second',\n",
              " 639: 'xx',\n",
              " 640: 'old',\n",
              " 641: 'quiz',\n",
              " 642: 'type',\n",
              " 643: 'whats',\n",
              " 644: 'ltd',\n",
              " 645: 'log',\n",
              " 646: 'college',\n",
              " 647: 'goodmorning',\n",
              " 648: 'oredi',\n",
              " 649: 'sounds',\n",
              " 650: 'angry',\n",
              " 651: 'unsubscribe',\n",
              " 652: 'same',\n",
              " 653: 'choose',\n",
              " 654: 'blue',\n",
              " 655: 'far',\n",
              " 656: 'card',\n",
              " 657: 'sister',\n",
              " 658: 'mobileupd8',\n",
              " 659: 'bout',\n",
              " 660: 'eve',\n",
              " 661: 'gd',\n",
              " 662: 'savamob',\n",
              " 663: 'mum',\n",
              " 664: 'saying',\n",
              " 665: 'await',\n",
              " 666: 'dreams',\n",
              " 667: 'info',\n",
              " 668: 'pobox',\n",
              " 669: 'camcorder',\n",
              " 670: '08000930705',\n",
              " 671: 'telling',\n",
              " 672: 'whole',\n",
              " 673: 'yours',\n",
              " 674: 'trip',\n",
              " 675: 'gone',\n",
              " 676: '12hrs',\n",
              " 677: 'felt',\n",
              " 678: 'friday',\n",
              " 679: 'mu',\n",
              " 680: 'nt',\n",
              " 681: 'taking',\n",
              " 682: 'hard',\n",
              " 683: 'leaving',\n",
              " 684: 'parents',\n",
              " 685: 'needs',\n",
              " 686: 'm',\n",
              " 687: 'rs',\n",
              " 688: 'nite',\n",
              " 689: 'company',\n",
              " 690: 'secret',\n",
              " 691: 'thinks',\n",
              " 692: 'case',\n",
              " 693: 'meant',\n",
              " 694: 'face',\n",
              " 695: 'congratulations',\n",
              " 696: 'anytime',\n",
              " 697: 'unlimited',\n",
              " 698: 'lets',\n",
              " 699: 'games',\n",
              " 700: 'christmas',\n",
              " 701: 'light',\n",
              " 702: 'before',\n",
              " 703: 'suite342',\n",
              " 704: '2lands',\n",
              " 705: '08000839402',\n",
              " 706: 'poly',\n",
              " 707: 'pm',\n",
              " 708: 'ten',\n",
              " 709: 'kind',\n",
              " 710: 'thinking',\n",
              " 711: 'fri',\n",
              " 712: 'mine',\n",
              " 713: 'neva',\n",
              " 714: 'game',\n",
              " 715: 'pub',\n",
              " 716: 'them',\n",
              " 717: 'rite',\n",
              " 718: 'about',\n",
              " 719: 'lovely',\n",
              " 720: 'freemsg',\n",
              " 721: \"'\",\n",
              " 722: '100',\n",
              " 723: 'credit',\n",
              " 724: 'tho',\n",
              " 725: 'lesson',\n",
              " 726: 'seeing',\n",
              " 727: 'girls',\n",
              " 728: 'frnds',\n",
              " 729: 'gotta',\n",
              " 730: 'download',\n",
              " 731: 'prob',\n",
              " 732: 'hit',\n",
              " 733: 'operator',\n",
              " 734: 'points',\n",
              " 735: 'caller',\n",
              " 736: '03',\n",
              " 737: 'player',\n",
              " 738: 'yr',\n",
              " 739: 'hand',\n",
              " 740: 'content',\n",
              " 741: 'wit',\n",
              " 742: 'bank',\n",
              " 743: 'mrng',\n",
              " 744: 'balance',\n",
              " 745: 'wil',\n",
              " 746: 'laptop',\n",
              " 747: 'tel',\n",
              " 748: 'dnt',\n",
              " 749: 'takes',\n",
              " 750: 'lost',\n",
              " 751: 'reading',\n",
              " 752: 'read',\n",
              " 753: 'currently',\n",
              " 754: 'ass',\n",
              " 755: 'drink',\n",
              " 756: 'fucking',\n",
              " 757: 'very',\n",
              " 758: 'cum',\n",
              " 759: 'outside',\n",
              " 760: 'listen',\n",
              " 761: 'snow',\n",
              " 762: 'area',\n",
              " 763: 'weeks',\n",
              " 764: 'sun',\n",
              " 765: 'b4',\n",
              " 766: 'wrong',\n",
              " 767: 'earlier',\n",
              " 768: 'loving',\n",
              " 769: 'party',\n",
              " 770: 'na',\n",
              " 771: 'chennai',\n",
              " 772: 'enter',\n",
              " 773: 'alone',\n",
              " 774: 'auction',\n",
              " 775: 'father',\n",
              " 776: 'point',\n",
              " 777: 'crazy',\n",
              " 778: 'press',\n",
              " 779: 'valued',\n",
              " 780: '11',\n",
              " 781: '20',\n",
              " 782: 'wonderful',\n",
              " 783: 'sunday',\n",
              " 784: 'eg',\n",
              " 785: 'hungry',\n",
              " 786: 'charged',\n",
              " 787: 'saturday',\n",
              " 788: 'abiola',\n",
              " 789: 'almost',\n",
              " 790: 'correct',\n",
              " 791: 'pass',\n",
              " 792: 'cut',\n",
              " 793: 'which',\n",
              " 794: 'hee',\n",
              " 795: 'does',\n",
              " 796: 'used',\n",
              " 797: '0800',\n",
              " 798: 'mah',\n",
              " 799: 'happened',\n",
              " 800: 'entered',\n",
              " 801: 'askd',\n",
              " 802: 'private',\n",
              " 803: 'dogging',\n",
              " 804: 'direct',\n",
              " 805: 'age',\n",
              " 806: 'tired',\n",
              " 807: 'open',\n",
              " 808: 'fancy',\n",
              " 809: 'boytoy',\n",
              " 810: 'finally',\n",
              " 811: 'darlin',\n",
              " 812: 'march',\n",
              " 813: 'tc',\n",
              " 814: 'bcoz',\n",
              " 815: 'reveal',\n",
              " 816: 'fr',\n",
              " 817: 'questions',\n",
              " 818: 'down',\n",
              " 819: 'ends',\n",
              " 820: 'bslvyl',\n",
              " 821: 'txts',\n",
              " 822: 'ago',\n",
              " 823: 'motorola',\n",
              " 824: 'reason',\n",
              " 825: 'phones',\n",
              " 826: 'rock',\n",
              " 827: 'by',\n",
              " 828: 'å£250',\n",
              " 829: 'th',\n",
              " 830: 'welcome',\n",
              " 831: 'visit',\n",
              " 832: 'nope',\n",
              " 833: 'simple',\n",
              " 834: 'offers',\n",
              " 835: 'pretty',\n",
              " 836: 'o',\n",
              " 837: 'yar',\n",
              " 838: 'knw',\n",
              " 839: 'ans',\n",
              " 840: 'mates',\n",
              " 841: 'ugh',\n",
              " 842: 'heard',\n",
              " 843: 'information',\n",
              " 844: 'hows',\n",
              " 845: 'john',\n",
              " 846: 'nah',\n",
              " 847: 'callertune',\n",
              " 848: 'wap',\n",
              " 849: 'eh',\n",
              " 850: 'comin',\n",
              " 851: 'knows',\n",
              " 852: 'decided',\n",
              " 853: 'move',\n",
              " 854: 'song',\n",
              " 855: 'rply',\n",
              " 856: 'complimentary',\n",
              " 857: 'started',\n",
              " 858: 'loads',\n",
              " 859: \"b'day\",\n",
              " 860: 'hmm',\n",
              " 861: 'sending',\n",
              " 862: 'frnd',\n",
              " 863: 'hmmm',\n",
              " 864: 'mr',\n",
              " 865: 'bath',\n",
              " 866: '87066',\n",
              " 867: 'hold',\n",
              " 868: 'wana',\n",
              " 869: 'leaves',\n",
              " 870: 'hmv',\n",
              " 871: 'fone',\n",
              " 872: 'merry',\n",
              " 873: 'plans',\n",
              " 874: 'immediately',\n",
              " 875: 'jay',\n",
              " 876: 'met',\n",
              " 877: 'hg',\n",
              " 878: 'call2optout',\n",
              " 879: 'project',\n",
              " 880: 'couple',\n",
              " 881: 'mm',\n",
              " 882: 'india',\n",
              " 883: 'asking',\n",
              " 884: 'park',\n",
              " 885: 'less',\n",
              " 886: 'å£2',\n",
              " 887: '00',\n",
              " 888: 'within',\n",
              " 889: 'hoping',\n",
              " 890: 'across',\n",
              " 891: 'happiness',\n",
              " 892: 'his',\n",
              " 893: 'ts',\n",
              " 894: 'sound',\n",
              " 895: 'paper',\n",
              " 896: 'once',\n",
              " 897: 'fantastic',\n",
              " 898: 'wonder',\n",
              " 899: 'picking',\n",
              " 900: 'mate',\n",
              " 901: 'understand',\n",
              " 902: 'ntt',\n",
              " 903: 'don',\n",
              " 904: 'truth',\n",
              " 905: 'feels',\n",
              " 906: 'surprise',\n",
              " 907: 'luck',\n",
              " 908: 'fact',\n",
              " 909: 'difficult',\n",
              " 910: 'empty',\n",
              " 911: 'wkly',\n",
              " 912: 'std',\n",
              " 913: \"i'd\",\n",
              " 914: 'months',\n",
              " 915: 'mobiles',\n",
              " 916: 'smth',\n",
              " 917: 'worried',\n",
              " 918: 'sick',\n",
              " 919: 'confirm',\n",
              " 920: 'crave',\n",
              " 921: 'gets',\n",
              " 922: 'etc',\n",
              " 923: 'tickets',\n",
              " 924: 'il',\n",
              " 925: 'mom',\n",
              " 926: 'invited',\n",
              " 927: 'identifier',\n",
              " 928: 'expires',\n",
              " 929: 'numbers',\n",
              " 930: 'txting',\n",
              " 931: 'lect',\n",
              " 932: 'lovable',\n",
              " 933: 'safe',\n",
              " 934: 'f',\n",
              " 935: 'muz',\n",
              " 936: 'bathe',\n",
              " 937: 'side',\n",
              " 938: 'admirer',\n",
              " 939: 'lover',\n",
              " 940: 'disturb',\n",
              " 941: 'stupid',\n",
              " 942: 'die',\n",
              " 943: 'somebody',\n",
              " 944: 'somewhere',\n",
              " 945: 'accept',\n",
              " 946: '2day',\n",
              " 947: 'normal',\n",
              " 948: 'rest',\n",
              " 949: 'via',\n",
              " 950: 'valentines',\n",
              " 951: 'w1j6hl',\n",
              " 952: 'st',\n",
              " 953: 'discount',\n",
              " 954: 'woke',\n",
              " 955: 'talking',\n",
              " 956: 'brings',\n",
              " 957: 'rental',\n",
              " 958: 'yep',\n",
              " 959: 'starts',\n",
              " 960: 'ldn',\n",
              " 961: 'kinda',\n",
              " 962: 'loan',\n",
              " 963: 'rent',\n",
              " 964: 'frm',\n",
              " 965: 'sub',\n",
              " 966: 'while',\n",
              " 967: 'blood',\n",
              " 968: 'warm',\n",
              " 969: 'cheap',\n",
              " 970: 'gym',\n",
              " 971: 'clean',\n",
              " 972: 'noon',\n",
              " 973: 'darren',\n",
              " 974: 'forwarded',\n",
              " 975: 'sex',\n",
              " 976: 'å£10',\n",
              " 977: 'store',\n",
              " 978: 'getzed',\n",
              " 979: 'gettin',\n",
              " 980: 'extra',\n",
              " 981: 'sort',\n",
              " 982: 'otherwise',\n",
              " 983: \"she's\",\n",
              " 984: 'least',\n",
              " 985: 'nyt',\n",
              " 986: 'p',\n",
              " 987: 'loved',\n",
              " 988: 'police',\n",
              " 989: 'comp',\n",
              " 990: 'copy',\n",
              " 991: 'anymore',\n",
              " 992: 'promise',\n",
              " 993: '87077',\n",
              " 994: 'catch',\n",
              " 995: 'replying',\n",
              " 996: 'decide',\n",
              " 997: 'wow',\n",
              " 998: 'ac',\n",
              " 999: 'red',\n",
              " 1000: 'ice',\n",
              " ...}"
            ]
          },
          "metadata": {},
          "execution_count": 18
        }
      ]
    },
    {
      "cell_type": "code",
      "source": [
        "def decode_article(text):\n",
        "    return ' '.join([reverse_word_index.get(i, '?') for i in text])\n",
        "print(decode_article(train_padded[10]))\n",
        "print('---')\n",
        "print(train_articles[10])"
      ],
      "metadata": {
        "colab": {
          "base_uri": "https://localhost:8080/"
        },
        "id": "CsPTvKpPu9eQ",
        "outputId": "5527a51e-2aef-4cce-f188-3c68ab7a6e38"
      },
      "execution_count": 19,
      "outputs": [
        {
          "output_type": "stream",
          "name": "stdout",
          "text": [
            "i'm gonna home soon want talk stuff anymore tonight k i've cried enough today ? ? ? ? ? ? ? ? ? ? ? ? ? ? ? ? ? ? ? ? ? ? ? ? ? ? ? ? ? ? ? ? ? ? ? ? ? ? ? ? ? ? ? ? ? ? ? ? ? ? ? ? ? ? ? ? ? ? ? ? ? ? ? ? ? ? ? ? ? ? ? ? ? ? ? ? ? ? ? ? ? ? ? ? ? ? ? ? ? ? ? ? ? ? ? ? ? ? ? ? ? ? ? ? ? ? ? ? ? ? ? ? ? ? ? ? ? ? ? ? ? ? ? ? ? ? ? ? ? ? ? ? ? ? ? ? ? ? ? ? ? ? ? ? ? ? ? ? ? ? ? ? ? ? ? ? ? ? ? ? ? ? ? ? ? ? ? ? ? ? ? ? ? ? ? ? ? ? ? ? ? ? ? ? ? ?\n",
            "---\n",
            "I'm gonna home soon want talk stuff anymore tonight, k? I've cried enough today.\n"
          ]
        }
      ]
    },
    {
      "cell_type": "markdown",
      "source": [
        "Create Model"
      ],
      "metadata": {
        "id": "8hrCRwL-vKI_"
      }
    },
    {
      "cell_type": "code",
      "source": [
        "model = tf.keras.Sequential([\n",
        "   \n",
        "    tf.keras.layers.Embedding(vocab_size, embedding_dim),\n",
        "    tf.keras.layers.Bidirectional(tf.keras.layers.LSTM(embedding_dim)),\n",
        "    tf.keras.layers.Dense(embedding_dim, activation='relu'),\n",
        "    tf.keras.layers.Dense(6, activation='softmax')\n",
        "])\n",
        "model.summary()"
      ],
      "metadata": {
        "colab": {
          "base_uri": "https://localhost:8080/"
        },
        "id": "eah3PQiIvB3d",
        "outputId": "36e5a486-dcfa-48d8-f6ce-1d5b0faab95b"
      },
      "execution_count": 20,
      "outputs": [
        {
          "output_type": "stream",
          "name": "stdout",
          "text": [
            "Model: \"sequential\"\n",
            "_________________________________________________________________\n",
            " Layer (type)                Output Shape              Param #   \n",
            "=================================================================\n",
            " embedding (Embedding)       (None, None, 64)          320000    \n",
            "                                                                 \n",
            " bidirectional (Bidirectiona  (None, 128)              66048     \n",
            " l)                                                              \n",
            "                                                                 \n",
            " dense (Dense)               (None, 64)                8256      \n",
            "                                                                 \n",
            " dense_1 (Dense)             (None, 6)                 390       \n",
            "                                                                 \n",
            "=================================================================\n",
            "Total params: 394,694\n",
            "Trainable params: 394,694\n",
            "Non-trainable params: 0\n",
            "_________________________________________________________________\n"
          ]
        }
      ]
    },
    {
      "cell_type": "code",
      "source": [
        "set(labels)"
      ],
      "metadata": {
        "colab": {
          "base_uri": "https://localhost:8080/"
        },
        "id": "uqxospolvEnb",
        "outputId": "c217bfd3-1a3b-44d2-f58b-5383498edac2"
      },
      "execution_count": 21,
      "outputs": [
        {
          "output_type": "execute_result",
          "data": {
            "text/plain": [
              "{'ham', 'spam'}"
            ]
          },
          "metadata": {},
          "execution_count": 21
        }
      ]
    },
    {
      "cell_type": "markdown",
      "source": [
        "Compile and Build the Model"
      ],
      "metadata": {
        "id": "oJcaWRa0vZwD"
      }
    },
    {
      "cell_type": "code",
      "source": [
        "model.compile(loss='sparse_categorical_crossentropy', optimizer='adam', metrics=['accuracy'])\n",
        "num_epochs = 10\n",
        "history = model.fit(train_padded, training_label_seq, epochs=num_epochs, validation_data=(validation_padded, validation_label_seq), verbose=2)"
      ],
      "metadata": {
        "colab": {
          "base_uri": "https://localhost:8080/"
        },
        "id": "Ux13IUGGvT-C",
        "outputId": "d27b7bb4-dd99-4359-cf1e-40f2dc055513"
      },
      "execution_count": 22,
      "outputs": [
        {
          "output_type": "stream",
          "name": "stdout",
          "text": [
            "Epoch 1/10\n",
            "140/140 - 12s - loss: 0.2925 - accuracy: 0.9318 - val_loss: 0.0479 - val_accuracy: 0.9874 - 12s/epoch - 86ms/step\n",
            "Epoch 2/10\n",
            "140/140 - 3s - loss: 0.0283 - accuracy: 0.9924 - val_loss: 0.0349 - val_accuracy: 0.9910 - 3s/epoch - 22ms/step\n",
            "Epoch 3/10\n",
            "140/140 - 2s - loss: 0.0089 - accuracy: 0.9978 - val_loss: 0.0383 - val_accuracy: 0.9901 - 2s/epoch - 16ms/step\n",
            "Epoch 4/10\n",
            "140/140 - 2s - loss: 0.0048 - accuracy: 0.9991 - val_loss: 0.0422 - val_accuracy: 0.9901 - 2s/epoch - 16ms/step\n",
            "Epoch 5/10\n",
            "140/140 - 2s - loss: 0.0019 - accuracy: 0.9996 - val_loss: 0.0548 - val_accuracy: 0.9910 - 2s/epoch - 16ms/step\n",
            "Epoch 6/10\n",
            "140/140 - 2s - loss: 0.0042 - accuracy: 0.9991 - val_loss: 0.0523 - val_accuracy: 0.9919 - 2s/epoch - 16ms/step\n",
            "Epoch 7/10\n",
            "140/140 - 2s - loss: 0.0012 - accuracy: 0.9996 - val_loss: 0.0579 - val_accuracy: 0.9919 - 2s/epoch - 16ms/step\n",
            "Epoch 8/10\n",
            "140/140 - 2s - loss: 7.5558e-04 - accuracy: 0.9998 - val_loss: 0.0602 - val_accuracy: 0.9919 - 2s/epoch - 16ms/step\n",
            "Epoch 9/10\n",
            "140/140 - 2s - loss: 3.8321e-04 - accuracy: 0.9998 - val_loss: 0.0630 - val_accuracy: 0.9848 - 2s/epoch - 17ms/step\n",
            "Epoch 10/10\n",
            "140/140 - 3s - loss: 2.3189e-04 - accuracy: 1.0000 - val_loss: 0.0701 - val_accuracy: 0.9901 - 3s/epoch - 23ms/step\n"
          ]
        }
      ]
    },
    {
      "cell_type": "code",
      "source": [
        "def plot_graphs(history, string):\n",
        "  plt.plot(history.history[string])\n",
        "  plt.plot(history.history['val_'+string])\n",
        "  plt.xlabel(\"Epochs\")\n",
        "  plt.ylabel(string)\n",
        "  plt.legend([string, 'val_'+string])\n",
        "  plt.show()\n",
        "  \n",
        "plot_graphs(history, \"accuracy\")\n",
        "plot_graphs(history, \"loss\")"
      ],
      "metadata": {
        "colab": {
          "base_uri": "https://localhost:8080/",
          "height": 541
        },
        "id": "mea9UQzbvdZd",
        "outputId": "04f0b3ac-5f4a-4cb4-cdc6-27d1294682ad"
      },
      "execution_count": 23,
      "outputs": [
        {
          "output_type": "display_data",
          "data": {
            "text/plain": [
              "<Figure size 432x288 with 1 Axes>"
            ],
            "image/png": "[encoded data removed]"
          },
          "metadata": {
            "needs_background": "light"
          }
        },
        {
          "output_type": "display_data",
          "data": {
            "text/plain": [
              "<Figure size 432x288 with 1 Axes>"
            ],
            "image/png": "[encoded data removed]"
          },
          "metadata": {
            "needs_background": "light"
          }
        }
      ]
    },
    {
      "cell_type": "markdown",
      "source": [
        "Save the Model"
      ],
      "metadata": {
        "id": "lZjvLhddwEDT"
      }
    },
    {
      "cell_type": "code",
      "source": [
        "model.save(\"spamorham.h1\")"
      ],
      "metadata": {
        "colab": {
          "base_uri": "https://localhost:8080/"
        },
        "id": "uzHHjkj3vvB5",
        "outputId": "0ce39ba8-a2fa-4bfb-fd97-3feaa81cdbe9"
      },
      "execution_count": 24,
      "outputs": [
        {
          "output_type": "stream",
          "name": "stderr",
          "text": [
            "WARNING:absl:Found untraced functions such as lstm_cell_1_layer_call_fn, lstm_cell_1_layer_call_and_return_conditional_losses, lstm_cell_2_layer_call_fn, lstm_cell_2_layer_call_and_return_conditional_losses while saving (showing 4 of 4). These functions will not be directly callable after loading.\n"
          ]
        }
      ]
    },
    {
      "cell_type": "code",
      "source": [
        "model.save(\"spamorham.m5\")"
      ],
      "metadata": {
        "colab": {
          "base_uri": "https://localhost:8080/"
        },
        "id": "kAgB3gdwv20_",
        "outputId": "f8e4a244-30cf-4a80-be0a-3cf4954e45c5"
      },
      "execution_count": 25,
      "outputs": [
        {
          "output_type": "stream",
          "name": "stderr",
          "text": [
            "WARNING:absl:Found untraced functions such as lstm_cell_1_layer_call_fn, lstm_cell_1_layer_call_and_return_conditional_losses, lstm_cell_2_layer_call_fn, lstm_cell_2_layer_call_and_return_conditional_losses while saving (showing 4 of 4). These functions will not be directly callable after loading.\n"
          ]
        }
      ]
    },
    {
      "cell_type": "markdown",
      "source": [
        "Test the Model"
      ],
      "metadata": {
        "id": "tSUV1uLcwLJU"
      }
    },
    {
      "cell_type": "code",
      "source": [
        "from tensorflow.keras.models import load_model\n",
        "\n",
        "import numpy as np"
      ],
      "metadata": {
        "id": "jYoz1-SRv8PP"
      },
      "execution_count": 26,
      "outputs": []
    },
    {
      "cell_type": "code",
      "source": [
        "model = load_model(\"/content/gdrive/MyDrive/ibm dataset/spamorham.h1\")"
      ],
      "metadata": {
        "id": "LKfNjVnjwOTa"
      },
      "execution_count": 27,
      "outputs": []
    },
    {
      "cell_type": "code",
      "source": [
        "model.summary()"
      ],
      "metadata": {
        "colab": {
          "base_uri": "https://localhost:8080/"
        },
        "id": "62GieE6VwT-y",
        "outputId": "603ae9b3-e7e0-4d38-a1ca-9bc5036273c3"
      },
      "execution_count": 28,
      "outputs": [
        {
          "output_type": "stream",
          "name": "stdout",
          "text": [
            "Model: \"sequential\"\n",
            "_________________________________________________________________\n",
            " Layer (type)                Output Shape              Param #   \n",
            "=================================================================\n",
            " embedding (Embedding)       (None, None, 64)          320000    \n",
            "                                                                 \n",
            " bidirectional (Bidirectiona  (None, 128)              66048     \n",
            " l)                                                              \n",
            "                                                                 \n",
            " dense (Dense)               (None, 64)                8256      \n",
            "                                                                 \n",
            " dense_1 (Dense)             (None, 6)                 390       \n",
            "                                                                 \n",
            "=================================================================\n",
            "Total params: 394,694\n",
            "Trainable params: 394,694\n",
            "Non-trainable params: 0\n",
            "_________________________________________________________________\n"
          ]
        }
      ]
    },
    {
      "cell_type": "code",
      "source": [
        "train_padded[7]"
      ],
      "metadata": {
        "colab": {
          "base_uri": "https://localhost:8080/"
        },
        "id": "VF8cjeTzwbsV",
        "outputId": "7de3f63d-5c84-4b5d-de53-4e7618cbb11b"
      },
      "execution_count": 32,
      "outputs": [
        {
          "output_type": "execute_result",
          "data": {
            "text/plain": [
              "array([ 210,  171, 1091, 1949, 1950, 1631, 1951, 1952, 1953,  721,  532,\n",
              "        847, 1408,  778,  441,  990,  188,  847,    0,    0,    0,    0,\n",
              "          0,    0,    0,    0,    0,    0,    0,    0,    0,    0,    0,\n",
              "          0,    0,    0,    0,    0,    0,    0,    0,    0,    0,    0,\n",
              "          0,    0,    0,    0,    0,    0,    0,    0,    0,    0,    0,\n",
              "          0,    0,    0,    0,    0,    0,    0,    0,    0,    0,    0,\n",
              "          0,    0,    0,    0,    0,    0,    0,    0,    0,    0,    0,\n",
              "          0,    0,    0,    0,    0,    0,    0,    0,    0,    0,    0,\n",
              "          0,    0,    0,    0,    0,    0,    0,    0,    0,    0,    0,\n",
              "          0,    0,    0,    0,    0,    0,    0,    0,    0,    0,    0,\n",
              "          0,    0,    0,    0,    0,    0,    0,    0,    0,    0,    0,\n",
              "          0,    0,    0,    0,    0,    0,    0,    0,    0,    0,    0,\n",
              "          0,    0,    0,    0,    0,    0,    0,    0,    0,    0,    0,\n",
              "          0,    0,    0,    0,    0,    0,    0,    0,    0,    0,    0,\n",
              "          0,    0,    0,    0,    0,    0,    0,    0,    0,    0,    0,\n",
              "          0,    0,    0,    0,    0,    0,    0,    0,    0,    0,    0,\n",
              "          0,    0,    0,    0,    0,    0,    0,    0,    0,    0,    0,\n",
              "          0,    0,    0,    0,    0,    0,    0,    0,    0,    0,    0,\n",
              "          0,    0], dtype=int32)"
            ]
          },
          "metadata": {},
          "execution_count": 32
        }
      ]
    },
    {
      "cell_type": "code",
      "source": [
        "training_label_seq[7]"
      ],
      "metadata": {
        "colab": {
          "base_uri": "https://localhost:8080/"
        },
        "id": "pNTDg1Akwsx-",
        "outputId": "32b6a2c5-a86e-463d-e86f-116e75027d87"
      },
      "execution_count": 41,
      "outputs": [
        {
          "output_type": "execute_result",
          "data": {
            "text/plain": [
              "array([1])"
            ]
          },
          "metadata": {},
          "execution_count": 41
        }
      ]
    },
    {
      "cell_type": "markdown",
      "source": [
        "It is a spam!!"
      ],
      "metadata": {
        "id": "TrDKQ1nxxWko"
      }
    },
    {
      "cell_type": "markdown",
      "source": [
        "Lets See it predicts correct or not?"
      ],
      "metadata": {
        "id": "vKbgY-fYxbdJ"
      }
    },
    {
      "cell_type": "code",
      "source": [
        "model.predict(train_padded[7:8])"
      ],
      "metadata": {
        "colab": {
          "base_uri": "https://localhost:8080/"
        },
        "id": "IQFqepc1xaWY",
        "outputId": "e47b40ea-dbbb-4d2a-dc97-719bf248fb37"
      },
      "execution_count": 42,
      "outputs": [
        {
          "output_type": "stream",
          "name": "stdout",
          "text": [
            "1/1 [==============================] - 0s 100ms/step\n"
          ]
        },
        {
          "output_type": "execute_result",
          "data": {
            "text/plain": [
              "array([[6.7082840e-07, 9.9998832e-01, 9.7820175e-06, 6.7633550e-07,\n",
              "        1.3210050e-07, 3.6955976e-07]], dtype=float32)"
            ]
          },
          "metadata": {},
          "execution_count": 42
        }
      ]
    },
    {
      "cell_type": "markdown",
      "source": [
        "It Predicts its a Spam!!"
      ],
      "metadata": {
        "id": "VCLQQlW4yPHd"
      }
    },
    {
      "cell_type": "code",
      "source": [],
      "metadata": {
        "id": "yVKjH_WJxhas"
      },
      "execution_count": null,
      "outputs": []
    }
  ]
}